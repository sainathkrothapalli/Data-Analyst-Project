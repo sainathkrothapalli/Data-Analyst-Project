{
  "cells": [
    {
      "cell_type": "markdown",
      "metadata": {
        "id": "view-in-github",
        "colab_type": "text"
      },
      "source": [
        "<a href=\"https://colab.research.google.com/github/sainathkrothapalli/Data-Analyst-Projects/blob/main/Data%20Cleaning.ipynb\" target=\"_parent\"><img src=\"https://colab.research.google.com/assets/colab-badge.svg\" alt=\"Open In Colab\"/></a>"
      ]
    },
    {
      "cell_type": "code",
      "execution_count": 21,
      "metadata": {
        "colab": {
          "base_uri": "https://localhost:8080/",
          "height": 206
        },
        "id": "3Qy-SjXvyw6u",
        "outputId": "7d47e6df-e5fc-40d1-fa51-0fb44d6cbdfb"
      },
      "outputs": [
        {
          "output_type": "execute_result",
          "data": {
            "text/plain": [
              "                                               Title             Ratings  \\\n",
              "0  TIAMOU Men Running Walking Shoes Sport Athleti...  4.2 out of 5 stars   \n",
              "1  Rospick Slip On Men's Sneakers, Walking Shoes ...  4.1 out of 5 stars   \n",
              "2  TSIODFO Men's Sneakers Sport Running Athletic ...  4.3 out of 5 stars   \n",
              "3  VAMJAM Men's Running Shoes Ultra Lightweight B...  4.2 out of 5 stars   \n",
              "4           Sperry Men's STRIPER II CVO Core Sneaker  4.6 out of 5 stars   \n",
              "\n",
              "  Total People Rated Current Price  \n",
              "0              9,013        $45.99  \n",
              "1              1,473        $36.99  \n",
              "2              6,050        $46.90  \n",
              "3              4,109        $34.99  \n",
              "4              2,156        $39.95  "
            ],
            "text/html": [
              "\n",
              "  <div id=\"df-23589c86-0f88-4ee5-8200-760721668856\">\n",
              "    <div class=\"colab-df-container\">\n",
              "      <div>\n",
              "<style scoped>\n",
              "    .dataframe tbody tr th:only-of-type {\n",
              "        vertical-align: middle;\n",
              "    }\n",
              "\n",
              "    .dataframe tbody tr th {\n",
              "        vertical-align: top;\n",
              "    }\n",
              "\n",
              "    .dataframe thead th {\n",
              "        text-align: right;\n",
              "    }\n",
              "</style>\n",
              "<table border=\"1\" class=\"dataframe\">\n",
              "  <thead>\n",
              "    <tr style=\"text-align: right;\">\n",
              "      <th></th>\n",
              "      <th>Title</th>\n",
              "      <th>Ratings</th>\n",
              "      <th>Total People Rated</th>\n",
              "      <th>Current Price</th>\n",
              "    </tr>\n",
              "  </thead>\n",
              "  <tbody>\n",
              "    <tr>\n",
              "      <th>0</th>\n",
              "      <td>TIAMOU Men Running Walking Shoes Sport Athleti...</td>\n",
              "      <td>4.2 out of 5 stars</td>\n",
              "      <td>9,013</td>\n",
              "      <td>$45.99</td>\n",
              "    </tr>\n",
              "    <tr>\n",
              "      <th>1</th>\n",
              "      <td>Rospick Slip On Men's Sneakers, Walking Shoes ...</td>\n",
              "      <td>4.1 out of 5 stars</td>\n",
              "      <td>1,473</td>\n",
              "      <td>$36.99</td>\n",
              "    </tr>\n",
              "    <tr>\n",
              "      <th>2</th>\n",
              "      <td>TSIODFO Men's Sneakers Sport Running Athletic ...</td>\n",
              "      <td>4.3 out of 5 stars</td>\n",
              "      <td>6,050</td>\n",
              "      <td>$46.90</td>\n",
              "    </tr>\n",
              "    <tr>\n",
              "      <th>3</th>\n",
              "      <td>VAMJAM Men's Running Shoes Ultra Lightweight B...</td>\n",
              "      <td>4.2 out of 5 stars</td>\n",
              "      <td>4,109</td>\n",
              "      <td>$34.99</td>\n",
              "    </tr>\n",
              "    <tr>\n",
              "      <th>4</th>\n",
              "      <td>Sperry Men's STRIPER II CVO Core Sneaker</td>\n",
              "      <td>4.6 out of 5 stars</td>\n",
              "      <td>2,156</td>\n",
              "      <td>$39.95</td>\n",
              "    </tr>\n",
              "  </tbody>\n",
              "</table>\n",
              "</div>\n",
              "      <button class=\"colab-df-convert\" onclick=\"convertToInteractive('df-23589c86-0f88-4ee5-8200-760721668856')\"\n",
              "              title=\"Convert this dataframe to an interactive table.\"\n",
              "              style=\"display:none;\">\n",
              "        \n",
              "  <svg xmlns=\"http://www.w3.org/2000/svg\" height=\"24px\"viewBox=\"0 0 24 24\"\n",
              "       width=\"24px\">\n",
              "    <path d=\"M0 0h24v24H0V0z\" fill=\"none\"/>\n",
              "    <path d=\"M18.56 5.44l.94 2.06.94-2.06 2.06-.94-2.06-.94-.94-2.06-.94 2.06-2.06.94zm-11 1L8.5 8.5l.94-2.06 2.06-.94-2.06-.94L8.5 2.5l-.94 2.06-2.06.94zm10 10l.94 2.06.94-2.06 2.06-.94-2.06-.94-.94-2.06-.94 2.06-2.06.94z\"/><path d=\"M17.41 7.96l-1.37-1.37c-.4-.4-.92-.59-1.43-.59-.52 0-1.04.2-1.43.59L10.3 9.45l-7.72 7.72c-.78.78-.78 2.05 0 2.83L4 21.41c.39.39.9.59 1.41.59.51 0 1.02-.2 1.41-.59l7.78-7.78 2.81-2.81c.8-.78.8-2.07 0-2.86zM5.41 20L4 18.59l7.72-7.72 1.47 1.35L5.41 20z\"/>\n",
              "  </svg>\n",
              "      </button>\n",
              "      \n",
              "  <style>\n",
              "    .colab-df-container {\n",
              "      display:flex;\n",
              "      flex-wrap:wrap;\n",
              "      gap: 12px;\n",
              "    }\n",
              "\n",
              "    .colab-df-convert {\n",
              "      background-color: #E8F0FE;\n",
              "      border: none;\n",
              "      border-radius: 50%;\n",
              "      cursor: pointer;\n",
              "      display: none;\n",
              "      fill: #1967D2;\n",
              "      height: 32px;\n",
              "      padding: 0 0 0 0;\n",
              "      width: 32px;\n",
              "    }\n",
              "\n",
              "    .colab-df-convert:hover {\n",
              "      background-color: #E2EBFA;\n",
              "      box-shadow: 0px 1px 2px rgba(60, 64, 67, 0.3), 0px 1px 3px 1px rgba(60, 64, 67, 0.15);\n",
              "      fill: #174EA6;\n",
              "    }\n",
              "\n",
              "    [theme=dark] .colab-df-convert {\n",
              "      background-color: #3B4455;\n",
              "      fill: #D2E3FC;\n",
              "    }\n",
              "\n",
              "    [theme=dark] .colab-df-convert:hover {\n",
              "      background-color: #434B5C;\n",
              "      box-shadow: 0px 1px 3px 1px rgba(0, 0, 0, 0.15);\n",
              "      filter: drop-shadow(0px 1px 2px rgba(0, 0, 0, 0.3));\n",
              "      fill: #FFFFFF;\n",
              "    }\n",
              "  </style>\n",
              "\n",
              "      <script>\n",
              "        const buttonEl =\n",
              "          document.querySelector('#df-23589c86-0f88-4ee5-8200-760721668856 button.colab-df-convert');\n",
              "        buttonEl.style.display =\n",
              "          google.colab.kernel.accessAllowed ? 'block' : 'none';\n",
              "\n",
              "        async function convertToInteractive(key) {\n",
              "          const element = document.querySelector('#df-23589c86-0f88-4ee5-8200-760721668856');\n",
              "          const dataTable =\n",
              "            await google.colab.kernel.invokeFunction('convertToInteractive',\n",
              "                                                     [key], {});\n",
              "          if (!dataTable) return;\n",
              "\n",
              "          const docLinkHtml = 'Like what you see? Visit the ' +\n",
              "            '<a target=\"_blank\" href=https://colab.research.google.com/notebooks/data_table.ipynb>data table notebook</a>'\n",
              "            + ' to learn more about interactive tables.';\n",
              "          element.innerHTML = '';\n",
              "          dataTable['output_type'] = 'display_data';\n",
              "          await google.colab.output.renderOutput(dataTable, element);\n",
              "          const docLink = document.createElement('div');\n",
              "          docLink.innerHTML = docLinkHtml;\n",
              "          element.appendChild(docLink);\n",
              "        }\n",
              "      </script>\n",
              "    </div>\n",
              "  </div>\n",
              "  "
            ]
          },
          "metadata": {},
          "execution_count": 21
        }
      ],
      "source": [
        "import pandas as pd\n",
        "d=pd.read_csv('/content/amazon_products.csv')\n",
        "d.head()"
      ]
    },
    {
      "cell_type": "markdown",
      "source": [
        "Checking data shape"
      ],
      "metadata": {
        "id": "sHFbbgfPWpPD"
      }
    },
    {
      "cell_type": "code",
      "source": [
        "d.shape"
      ],
      "metadata": {
        "colab": {
          "base_uri": "https://localhost:8080/"
        },
        "id": "4X43OroQDGfq",
        "outputId": "f825bd61-1f06-4208-f11b-ed40590e95af"
      },
      "execution_count": 22,
      "outputs": [
        {
          "output_type": "execute_result",
          "data": {
            "text/plain": [
              "(319, 4)"
            ]
          },
          "metadata": {},
          "execution_count": 22
        }
      ]
    },
    {
      "cell_type": "markdown",
      "source": [
        "Changing column names"
      ],
      "metadata": {
        "id": "ll6WV1hqWsQh"
      }
    },
    {
      "cell_type": "code",
      "source": [
        "d.columns=['Title','Ratings','Total_people_rated','Price']\n",
        "d.head()"
      ],
      "metadata": {
        "colab": {
          "base_uri": "https://localhost:8080/",
          "height": 206
        },
        "id": "NAdZ24msDJ4G",
        "outputId": "6584ec67-0683-4b52-8b02-362abea31721"
      },
      "execution_count": 23,
      "outputs": [
        {
          "output_type": "execute_result",
          "data": {
            "text/plain": [
              "                                               Title             Ratings  \\\n",
              "0  TIAMOU Men Running Walking Shoes Sport Athleti...  4.2 out of 5 stars   \n",
              "1  Rospick Slip On Men's Sneakers, Walking Shoes ...  4.1 out of 5 stars   \n",
              "2  TSIODFO Men's Sneakers Sport Running Athletic ...  4.3 out of 5 stars   \n",
              "3  VAMJAM Men's Running Shoes Ultra Lightweight B...  4.2 out of 5 stars   \n",
              "4           Sperry Men's STRIPER II CVO Core Sneaker  4.6 out of 5 stars   \n",
              "\n",
              "  Total_people_rated   Price  \n",
              "0              9,013  $45.99  \n",
              "1              1,473  $36.99  \n",
              "2              6,050  $46.90  \n",
              "3              4,109  $34.99  \n",
              "4              2,156  $39.95  "
            ],
            "text/html": [
              "\n",
              "  <div id=\"df-932e53d1-3320-43d8-86c9-6b9fa9f0f65f\">\n",
              "    <div class=\"colab-df-container\">\n",
              "      <div>\n",
              "<style scoped>\n",
              "    .dataframe tbody tr th:only-of-type {\n",
              "        vertical-align: middle;\n",
              "    }\n",
              "\n",
              "    .dataframe tbody tr th {\n",
              "        vertical-align: top;\n",
              "    }\n",
              "\n",
              "    .dataframe thead th {\n",
              "        text-align: right;\n",
              "    }\n",
              "</style>\n",
              "<table border=\"1\" class=\"dataframe\">\n",
              "  <thead>\n",
              "    <tr style=\"text-align: right;\">\n",
              "      <th></th>\n",
              "      <th>Title</th>\n",
              "      <th>Ratings</th>\n",
              "      <th>Total_people_rated</th>\n",
              "      <th>Price</th>\n",
              "    </tr>\n",
              "  </thead>\n",
              "  <tbody>\n",
              "    <tr>\n",
              "      <th>0</th>\n",
              "      <td>TIAMOU Men Running Walking Shoes Sport Athleti...</td>\n",
              "      <td>4.2 out of 5 stars</td>\n",
              "      <td>9,013</td>\n",
              "      <td>$45.99</td>\n",
              "    </tr>\n",
              "    <tr>\n",
              "      <th>1</th>\n",
              "      <td>Rospick Slip On Men's Sneakers, Walking Shoes ...</td>\n",
              "      <td>4.1 out of 5 stars</td>\n",
              "      <td>1,473</td>\n",
              "      <td>$36.99</td>\n",
              "    </tr>\n",
              "    <tr>\n",
              "      <th>2</th>\n",
              "      <td>TSIODFO Men's Sneakers Sport Running Athletic ...</td>\n",
              "      <td>4.3 out of 5 stars</td>\n",
              "      <td>6,050</td>\n",
              "      <td>$46.90</td>\n",
              "    </tr>\n",
              "    <tr>\n",
              "      <th>3</th>\n",
              "      <td>VAMJAM Men's Running Shoes Ultra Lightweight B...</td>\n",
              "      <td>4.2 out of 5 stars</td>\n",
              "      <td>4,109</td>\n",
              "      <td>$34.99</td>\n",
              "    </tr>\n",
              "    <tr>\n",
              "      <th>4</th>\n",
              "      <td>Sperry Men's STRIPER II CVO Core Sneaker</td>\n",
              "      <td>4.6 out of 5 stars</td>\n",
              "      <td>2,156</td>\n",
              "      <td>$39.95</td>\n",
              "    </tr>\n",
              "  </tbody>\n",
              "</table>\n",
              "</div>\n",
              "      <button class=\"colab-df-convert\" onclick=\"convertToInteractive('df-932e53d1-3320-43d8-86c9-6b9fa9f0f65f')\"\n",
              "              title=\"Convert this dataframe to an interactive table.\"\n",
              "              style=\"display:none;\">\n",
              "        \n",
              "  <svg xmlns=\"http://www.w3.org/2000/svg\" height=\"24px\"viewBox=\"0 0 24 24\"\n",
              "       width=\"24px\">\n",
              "    <path d=\"M0 0h24v24H0V0z\" fill=\"none\"/>\n",
              "    <path d=\"M18.56 5.44l.94 2.06.94-2.06 2.06-.94-2.06-.94-.94-2.06-.94 2.06-2.06.94zm-11 1L8.5 8.5l.94-2.06 2.06-.94-2.06-.94L8.5 2.5l-.94 2.06-2.06.94zm10 10l.94 2.06.94-2.06 2.06-.94-2.06-.94-.94-2.06-.94 2.06-2.06.94z\"/><path d=\"M17.41 7.96l-1.37-1.37c-.4-.4-.92-.59-1.43-.59-.52 0-1.04.2-1.43.59L10.3 9.45l-7.72 7.72c-.78.78-.78 2.05 0 2.83L4 21.41c.39.39.9.59 1.41.59.51 0 1.02-.2 1.41-.59l7.78-7.78 2.81-2.81c.8-.78.8-2.07 0-2.86zM5.41 20L4 18.59l7.72-7.72 1.47 1.35L5.41 20z\"/>\n",
              "  </svg>\n",
              "      </button>\n",
              "      \n",
              "  <style>\n",
              "    .colab-df-container {\n",
              "      display:flex;\n",
              "      flex-wrap:wrap;\n",
              "      gap: 12px;\n",
              "    }\n",
              "\n",
              "    .colab-df-convert {\n",
              "      background-color: #E8F0FE;\n",
              "      border: none;\n",
              "      border-radius: 50%;\n",
              "      cursor: pointer;\n",
              "      display: none;\n",
              "      fill: #1967D2;\n",
              "      height: 32px;\n",
              "      padding: 0 0 0 0;\n",
              "      width: 32px;\n",
              "    }\n",
              "\n",
              "    .colab-df-convert:hover {\n",
              "      background-color: #E2EBFA;\n",
              "      box-shadow: 0px 1px 2px rgba(60, 64, 67, 0.3), 0px 1px 3px 1px rgba(60, 64, 67, 0.15);\n",
              "      fill: #174EA6;\n",
              "    }\n",
              "\n",
              "    [theme=dark] .colab-df-convert {\n",
              "      background-color: #3B4455;\n",
              "      fill: #D2E3FC;\n",
              "    }\n",
              "\n",
              "    [theme=dark] .colab-df-convert:hover {\n",
              "      background-color: #434B5C;\n",
              "      box-shadow: 0px 1px 3px 1px rgba(0, 0, 0, 0.15);\n",
              "      filter: drop-shadow(0px 1px 2px rgba(0, 0, 0, 0.3));\n",
              "      fill: #FFFFFF;\n",
              "    }\n",
              "  </style>\n",
              "\n",
              "      <script>\n",
              "        const buttonEl =\n",
              "          document.querySelector('#df-932e53d1-3320-43d8-86c9-6b9fa9f0f65f button.colab-df-convert');\n",
              "        buttonEl.style.display =\n",
              "          google.colab.kernel.accessAllowed ? 'block' : 'none';\n",
              "\n",
              "        async function convertToInteractive(key) {\n",
              "          const element = document.querySelector('#df-932e53d1-3320-43d8-86c9-6b9fa9f0f65f');\n",
              "          const dataTable =\n",
              "            await google.colab.kernel.invokeFunction('convertToInteractive',\n",
              "                                                     [key], {});\n",
              "          if (!dataTable) return;\n",
              "\n",
              "          const docLinkHtml = 'Like what you see? Visit the ' +\n",
              "            '<a target=\"_blank\" href=https://colab.research.google.com/notebooks/data_table.ipynb>data table notebook</a>'\n",
              "            + ' to learn more about interactive tables.';\n",
              "          element.innerHTML = '';\n",
              "          dataTable['output_type'] = 'display_data';\n",
              "          await google.colab.output.renderOutput(dataTable, element);\n",
              "          const docLink = document.createElement('div');\n",
              "          docLink.innerHTML = docLinkHtml;\n",
              "          element.appendChild(docLink);\n",
              "        }\n",
              "      </script>\n",
              "    </div>\n",
              "  </div>\n",
              "  "
            ]
          },
          "metadata": {},
          "execution_count": 23
        }
      ]
    },
    {
      "cell_type": "markdown",
      "source": [
        "Price column"
      ],
      "metadata": {
        "id": "6IsGIqnSWw5Q"
      }
    },
    {
      "cell_type": "markdown",
      "source": [
        "Removing $ sign and changing price column to float"
      ],
      "metadata": {
        "id": "s8rhFJFdbwH4"
      }
    },
    {
      "cell_type": "code",
      "source": [
        "d['Price']=d['Price'].str[1:]\n",
        "d.Price=d.Price.astype('float')\n",
        "d.Price"
      ],
      "metadata": {
        "colab": {
          "base_uri": "https://localhost:8080/"
        },
        "id": "InHV56VnDgKs",
        "outputId": "63fa0e16-c7c2-414b-cfe0-34e6680f27f5"
      },
      "execution_count": 24,
      "outputs": [
        {
          "output_type": "execute_result",
          "data": {
            "text/plain": [
              "0      45.99\n",
              "1      36.99\n",
              "2      46.90\n",
              "3      34.99\n",
              "4      39.95\n",
              "       ...  \n",
              "314    34.99\n",
              "315    39.90\n",
              "316    29.99\n",
              "317    74.95\n",
              "318    80.00\n",
              "Name: Price, Length: 319, dtype: float64"
            ]
          },
          "metadata": {},
          "execution_count": 24
        }
      ]
    },
    {
      "cell_type": "markdown",
      "source": [
        "Dropping duplicates"
      ],
      "metadata": {
        "id": "B_510jqSYRu-"
      }
    },
    {
      "cell_type": "code",
      "source": [
        "d.drop_duplicates(inplace=True)\n",
        "d.reset_index(drop=True,inplace=True)\n",
        "d"
      ],
      "metadata": {
        "colab": {
          "base_uri": "https://localhost:8080/",
          "height": 424
        },
        "id": "uucgEMQTEBje",
        "outputId": "a1cfc99b-35d0-44cd-cb55-3ab8b7cb73e3"
      },
      "execution_count": 25,
      "outputs": [
        {
          "output_type": "execute_result",
          "data": {
            "text/plain": [
              "                                                 Title             Ratings  \\\n",
              "0    TIAMOU Men Running Walking Shoes Sport Athleti...  4.2 out of 5 stars   \n",
              "1    Rospick Slip On Men's Sneakers, Walking Shoes ...  4.1 out of 5 stars   \n",
              "2    TSIODFO Men's Sneakers Sport Running Athletic ...  4.3 out of 5 stars   \n",
              "3    VAMJAM Men's Running Shoes Ultra Lightweight B...  4.2 out of 5 stars   \n",
              "4             Sperry Men's STRIPER II CVO Core Sneaker  4.6 out of 5 stars   \n",
              "..                                                 ...                 ...   \n",
              "209  adidas Men's Unisex Adicross Zx Primeblue Spik...  4.1 out of 5 stars   \n",
              "210         adidas Unisex-Adult Dame 8 Basketball Shoe  5.0 out of 5 stars   \n",
              "211                 Nike Men's Roshe G Tour Golf Shoes  4.4 out of 5 stars   \n",
              "212            PUMA Men's Ignite Fasten8 Pro Golf Shoe  4.6 out of 5 stars   \n",
              "213  Adidas Wrestling HVC Youth Laced Wrestling Sho...  4.6 out of 5 stars   \n",
              "\n",
              "    Total_people_rated  Price  \n",
              "0                9,013  45.99  \n",
              "1                1,473  36.99  \n",
              "2                6,050  46.90  \n",
              "3                4,109  34.99  \n",
              "4                2,156  39.95  \n",
              "..                 ...    ...  \n",
              "209                 57  68.00  \n",
              "210                  8  93.94  \n",
              "211                370  84.99  \n",
              "212                225  76.84  \n",
              "213              4,310  51.01  \n",
              "\n",
              "[214 rows x 4 columns]"
            ],
            "text/html": [
              "\n",
              "  <div id=\"df-c9c61a44-c865-49a9-9222-4c636691f392\">\n",
              "    <div class=\"colab-df-container\">\n",
              "      <div>\n",
              "<style scoped>\n",
              "    .dataframe tbody tr th:only-of-type {\n",
              "        vertical-align: middle;\n",
              "    }\n",
              "\n",
              "    .dataframe tbody tr th {\n",
              "        vertical-align: top;\n",
              "    }\n",
              "\n",
              "    .dataframe thead th {\n",
              "        text-align: right;\n",
              "    }\n",
              "</style>\n",
              "<table border=\"1\" class=\"dataframe\">\n",
              "  <thead>\n",
              "    <tr style=\"text-align: right;\">\n",
              "      <th></th>\n",
              "      <th>Title</th>\n",
              "      <th>Ratings</th>\n",
              "      <th>Total_people_rated</th>\n",
              "      <th>Price</th>\n",
              "    </tr>\n",
              "  </thead>\n",
              "  <tbody>\n",
              "    <tr>\n",
              "      <th>0</th>\n",
              "      <td>TIAMOU Men Running Walking Shoes Sport Athleti...</td>\n",
              "      <td>4.2 out of 5 stars</td>\n",
              "      <td>9,013</td>\n",
              "      <td>45.99</td>\n",
              "    </tr>\n",
              "    <tr>\n",
              "      <th>1</th>\n",
              "      <td>Rospick Slip On Men's Sneakers, Walking Shoes ...</td>\n",
              "      <td>4.1 out of 5 stars</td>\n",
              "      <td>1,473</td>\n",
              "      <td>36.99</td>\n",
              "    </tr>\n",
              "    <tr>\n",
              "      <th>2</th>\n",
              "      <td>TSIODFO Men's Sneakers Sport Running Athletic ...</td>\n",
              "      <td>4.3 out of 5 stars</td>\n",
              "      <td>6,050</td>\n",
              "      <td>46.90</td>\n",
              "    </tr>\n",
              "    <tr>\n",
              "      <th>3</th>\n",
              "      <td>VAMJAM Men's Running Shoes Ultra Lightweight B...</td>\n",
              "      <td>4.2 out of 5 stars</td>\n",
              "      <td>4,109</td>\n",
              "      <td>34.99</td>\n",
              "    </tr>\n",
              "    <tr>\n",
              "      <th>4</th>\n",
              "      <td>Sperry Men's STRIPER II CVO Core Sneaker</td>\n",
              "      <td>4.6 out of 5 stars</td>\n",
              "      <td>2,156</td>\n",
              "      <td>39.95</td>\n",
              "    </tr>\n",
              "    <tr>\n",
              "      <th>...</th>\n",
              "      <td>...</td>\n",
              "      <td>...</td>\n",
              "      <td>...</td>\n",
              "      <td>...</td>\n",
              "    </tr>\n",
              "    <tr>\n",
              "      <th>209</th>\n",
              "      <td>adidas Men's Unisex Adicross Zx Primeblue Spik...</td>\n",
              "      <td>4.1 out of 5 stars</td>\n",
              "      <td>57</td>\n",
              "      <td>68.00</td>\n",
              "    </tr>\n",
              "    <tr>\n",
              "      <th>210</th>\n",
              "      <td>adidas Unisex-Adult Dame 8 Basketball Shoe</td>\n",
              "      <td>5.0 out of 5 stars</td>\n",
              "      <td>8</td>\n",
              "      <td>93.94</td>\n",
              "    </tr>\n",
              "    <tr>\n",
              "      <th>211</th>\n",
              "      <td>Nike Men's Roshe G Tour Golf Shoes</td>\n",
              "      <td>4.4 out of 5 stars</td>\n",
              "      <td>370</td>\n",
              "      <td>84.99</td>\n",
              "    </tr>\n",
              "    <tr>\n",
              "      <th>212</th>\n",
              "      <td>PUMA Men's Ignite Fasten8 Pro Golf Shoe</td>\n",
              "      <td>4.6 out of 5 stars</td>\n",
              "      <td>225</td>\n",
              "      <td>76.84</td>\n",
              "    </tr>\n",
              "    <tr>\n",
              "      <th>213</th>\n",
              "      <td>Adidas Wrestling HVC Youth Laced Wrestling Sho...</td>\n",
              "      <td>4.6 out of 5 stars</td>\n",
              "      <td>4,310</td>\n",
              "      <td>51.01</td>\n",
              "    </tr>\n",
              "  </tbody>\n",
              "</table>\n",
              "<p>214 rows × 4 columns</p>\n",
              "</div>\n",
              "      <button class=\"colab-df-convert\" onclick=\"convertToInteractive('df-c9c61a44-c865-49a9-9222-4c636691f392')\"\n",
              "              title=\"Convert this dataframe to an interactive table.\"\n",
              "              style=\"display:none;\">\n",
              "        \n",
              "  <svg xmlns=\"http://www.w3.org/2000/svg\" height=\"24px\"viewBox=\"0 0 24 24\"\n",
              "       width=\"24px\">\n",
              "    <path d=\"M0 0h24v24H0V0z\" fill=\"none\"/>\n",
              "    <path d=\"M18.56 5.44l.94 2.06.94-2.06 2.06-.94-2.06-.94-.94-2.06-.94 2.06-2.06.94zm-11 1L8.5 8.5l.94-2.06 2.06-.94-2.06-.94L8.5 2.5l-.94 2.06-2.06.94zm10 10l.94 2.06.94-2.06 2.06-.94-2.06-.94-.94-2.06-.94 2.06-2.06.94z\"/><path d=\"M17.41 7.96l-1.37-1.37c-.4-.4-.92-.59-1.43-.59-.52 0-1.04.2-1.43.59L10.3 9.45l-7.72 7.72c-.78.78-.78 2.05 0 2.83L4 21.41c.39.39.9.59 1.41.59.51 0 1.02-.2 1.41-.59l7.78-7.78 2.81-2.81c.8-.78.8-2.07 0-2.86zM5.41 20L4 18.59l7.72-7.72 1.47 1.35L5.41 20z\"/>\n",
              "  </svg>\n",
              "      </button>\n",
              "      \n",
              "  <style>\n",
              "    .colab-df-container {\n",
              "      display:flex;\n",
              "      flex-wrap:wrap;\n",
              "      gap: 12px;\n",
              "    }\n",
              "\n",
              "    .colab-df-convert {\n",
              "      background-color: #E8F0FE;\n",
              "      border: none;\n",
              "      border-radius: 50%;\n",
              "      cursor: pointer;\n",
              "      display: none;\n",
              "      fill: #1967D2;\n",
              "      height: 32px;\n",
              "      padding: 0 0 0 0;\n",
              "      width: 32px;\n",
              "    }\n",
              "\n",
              "    .colab-df-convert:hover {\n",
              "      background-color: #E2EBFA;\n",
              "      box-shadow: 0px 1px 2px rgba(60, 64, 67, 0.3), 0px 1px 3px 1px rgba(60, 64, 67, 0.15);\n",
              "      fill: #174EA6;\n",
              "    }\n",
              "\n",
              "    [theme=dark] .colab-df-convert {\n",
              "      background-color: #3B4455;\n",
              "      fill: #D2E3FC;\n",
              "    }\n",
              "\n",
              "    [theme=dark] .colab-df-convert:hover {\n",
              "      background-color: #434B5C;\n",
              "      box-shadow: 0px 1px 3px 1px rgba(0, 0, 0, 0.15);\n",
              "      filter: drop-shadow(0px 1px 2px rgba(0, 0, 0, 0.3));\n",
              "      fill: #FFFFFF;\n",
              "    }\n",
              "  </style>\n",
              "\n",
              "      <script>\n",
              "        const buttonEl =\n",
              "          document.querySelector('#df-c9c61a44-c865-49a9-9222-4c636691f392 button.colab-df-convert');\n",
              "        buttonEl.style.display =\n",
              "          google.colab.kernel.accessAllowed ? 'block' : 'none';\n",
              "\n",
              "        async function convertToInteractive(key) {\n",
              "          const element = document.querySelector('#df-c9c61a44-c865-49a9-9222-4c636691f392');\n",
              "          const dataTable =\n",
              "            await google.colab.kernel.invokeFunction('convertToInteractive',\n",
              "                                                     [key], {});\n",
              "          if (!dataTable) return;\n",
              "\n",
              "          const docLinkHtml = 'Like what you see? Visit the ' +\n",
              "            '<a target=\"_blank\" href=https://colab.research.google.com/notebooks/data_table.ipynb>data table notebook</a>'\n",
              "            + ' to learn more about interactive tables.';\n",
              "          element.innerHTML = '';\n",
              "          dataTable['output_type'] = 'display_data';\n",
              "          await google.colab.output.renderOutput(dataTable, element);\n",
              "          const docLink = document.createElement('div');\n",
              "          docLink.innerHTML = docLinkHtml;\n",
              "          element.appendChild(docLink);\n",
              "        }\n",
              "      </script>\n",
              "    </div>\n",
              "  </div>\n",
              "  "
            ]
          },
          "metadata": {},
          "execution_count": 25
        }
      ]
    },
    {
      "cell_type": "markdown",
      "source": [
        "Ratings column"
      ],
      "metadata": {
        "id": "EeXUN4j1YY6b"
      }
    },
    {
      "cell_type": "markdown",
      "source": [
        "Considering only ratings value and changing the column to float"
      ],
      "metadata": {
        "id": "YlkRW_nQb8ul"
      }
    },
    {
      "cell_type": "code",
      "source": [
        "d['Rating']=d['Ratings'].str[:3]\n",
        "d.drop(['Ratings'],axis=1,inplace=True)\n",
        "d.Rating=d.Rating.astype('float')\n",
        "d['Rating']"
      ],
      "metadata": {
        "colab": {
          "base_uri": "https://localhost:8080/"
        },
        "id": "_0wLOQ_6Eh5I",
        "outputId": "dd8cccbe-ddf0-44b8-99f6-5f875b035966"
      },
      "execution_count": 26,
      "outputs": [
        {
          "output_type": "execute_result",
          "data": {
            "text/plain": [
              "0      4.2\n",
              "1      4.1\n",
              "2      4.3\n",
              "3      4.2\n",
              "4      4.6\n",
              "      ... \n",
              "209    4.1\n",
              "210    5.0\n",
              "211    4.4\n",
              "212    4.6\n",
              "213    4.6\n",
              "Name: Rating, Length: 214, dtype: float64"
            ]
          },
          "metadata": {},
          "execution_count": 26
        }
      ]
    },
    {
      "cell_type": "code",
      "source": [
        "d.head()"
      ],
      "metadata": {
        "colab": {
          "base_uri": "https://localhost:8080/",
          "height": 206
        },
        "id": "CuJOOicTE1Zf",
        "outputId": "66b50fbf-62ba-4687-e242-0624e07c7e91"
      },
      "execution_count": 27,
      "outputs": [
        {
          "output_type": "execute_result",
          "data": {
            "text/plain": [
              "                                               Title Total_people_rated  \\\n",
              "0  TIAMOU Men Running Walking Shoes Sport Athleti...              9,013   \n",
              "1  Rospick Slip On Men's Sneakers, Walking Shoes ...              1,473   \n",
              "2  TSIODFO Men's Sneakers Sport Running Athletic ...              6,050   \n",
              "3  VAMJAM Men's Running Shoes Ultra Lightweight B...              4,109   \n",
              "4           Sperry Men's STRIPER II CVO Core Sneaker              2,156   \n",
              "\n",
              "   Price  Rating  \n",
              "0  45.99     4.2  \n",
              "1  36.99     4.1  \n",
              "2  46.90     4.3  \n",
              "3  34.99     4.2  \n",
              "4  39.95     4.6  "
            ],
            "text/html": [
              "\n",
              "  <div id=\"df-3995ed94-90d6-403e-b17d-e56cf5cdedb8\">\n",
              "    <div class=\"colab-df-container\">\n",
              "      <div>\n",
              "<style scoped>\n",
              "    .dataframe tbody tr th:only-of-type {\n",
              "        vertical-align: middle;\n",
              "    }\n",
              "\n",
              "    .dataframe tbody tr th {\n",
              "        vertical-align: top;\n",
              "    }\n",
              "\n",
              "    .dataframe thead th {\n",
              "        text-align: right;\n",
              "    }\n",
              "</style>\n",
              "<table border=\"1\" class=\"dataframe\">\n",
              "  <thead>\n",
              "    <tr style=\"text-align: right;\">\n",
              "      <th></th>\n",
              "      <th>Title</th>\n",
              "      <th>Total_people_rated</th>\n",
              "      <th>Price</th>\n",
              "      <th>Rating</th>\n",
              "    </tr>\n",
              "  </thead>\n",
              "  <tbody>\n",
              "    <tr>\n",
              "      <th>0</th>\n",
              "      <td>TIAMOU Men Running Walking Shoes Sport Athleti...</td>\n",
              "      <td>9,013</td>\n",
              "      <td>45.99</td>\n",
              "      <td>4.2</td>\n",
              "    </tr>\n",
              "    <tr>\n",
              "      <th>1</th>\n",
              "      <td>Rospick Slip On Men's Sneakers, Walking Shoes ...</td>\n",
              "      <td>1,473</td>\n",
              "      <td>36.99</td>\n",
              "      <td>4.1</td>\n",
              "    </tr>\n",
              "    <tr>\n",
              "      <th>2</th>\n",
              "      <td>TSIODFO Men's Sneakers Sport Running Athletic ...</td>\n",
              "      <td>6,050</td>\n",
              "      <td>46.90</td>\n",
              "      <td>4.3</td>\n",
              "    </tr>\n",
              "    <tr>\n",
              "      <th>3</th>\n",
              "      <td>VAMJAM Men's Running Shoes Ultra Lightweight B...</td>\n",
              "      <td>4,109</td>\n",
              "      <td>34.99</td>\n",
              "      <td>4.2</td>\n",
              "    </tr>\n",
              "    <tr>\n",
              "      <th>4</th>\n",
              "      <td>Sperry Men's STRIPER II CVO Core Sneaker</td>\n",
              "      <td>2,156</td>\n",
              "      <td>39.95</td>\n",
              "      <td>4.6</td>\n",
              "    </tr>\n",
              "  </tbody>\n",
              "</table>\n",
              "</div>\n",
              "      <button class=\"colab-df-convert\" onclick=\"convertToInteractive('df-3995ed94-90d6-403e-b17d-e56cf5cdedb8')\"\n",
              "              title=\"Convert this dataframe to an interactive table.\"\n",
              "              style=\"display:none;\">\n",
              "        \n",
              "  <svg xmlns=\"http://www.w3.org/2000/svg\" height=\"24px\"viewBox=\"0 0 24 24\"\n",
              "       width=\"24px\">\n",
              "    <path d=\"M0 0h24v24H0V0z\" fill=\"none\"/>\n",
              "    <path d=\"M18.56 5.44l.94 2.06.94-2.06 2.06-.94-2.06-.94-.94-2.06-.94 2.06-2.06.94zm-11 1L8.5 8.5l.94-2.06 2.06-.94-2.06-.94L8.5 2.5l-.94 2.06-2.06.94zm10 10l.94 2.06.94-2.06 2.06-.94-2.06-.94-.94-2.06-.94 2.06-2.06.94z\"/><path d=\"M17.41 7.96l-1.37-1.37c-.4-.4-.92-.59-1.43-.59-.52 0-1.04.2-1.43.59L10.3 9.45l-7.72 7.72c-.78.78-.78 2.05 0 2.83L4 21.41c.39.39.9.59 1.41.59.51 0 1.02-.2 1.41-.59l7.78-7.78 2.81-2.81c.8-.78.8-2.07 0-2.86zM5.41 20L4 18.59l7.72-7.72 1.47 1.35L5.41 20z\"/>\n",
              "  </svg>\n",
              "      </button>\n",
              "      \n",
              "  <style>\n",
              "    .colab-df-container {\n",
              "      display:flex;\n",
              "      flex-wrap:wrap;\n",
              "      gap: 12px;\n",
              "    }\n",
              "\n",
              "    .colab-df-convert {\n",
              "      background-color: #E8F0FE;\n",
              "      border: none;\n",
              "      border-radius: 50%;\n",
              "      cursor: pointer;\n",
              "      display: none;\n",
              "      fill: #1967D2;\n",
              "      height: 32px;\n",
              "      padding: 0 0 0 0;\n",
              "      width: 32px;\n",
              "    }\n",
              "\n",
              "    .colab-df-convert:hover {\n",
              "      background-color: #E2EBFA;\n",
              "      box-shadow: 0px 1px 2px rgba(60, 64, 67, 0.3), 0px 1px 3px 1px rgba(60, 64, 67, 0.15);\n",
              "      fill: #174EA6;\n",
              "    }\n",
              "\n",
              "    [theme=dark] .colab-df-convert {\n",
              "      background-color: #3B4455;\n",
              "      fill: #D2E3FC;\n",
              "    }\n",
              "\n",
              "    [theme=dark] .colab-df-convert:hover {\n",
              "      background-color: #434B5C;\n",
              "      box-shadow: 0px 1px 3px 1px rgba(0, 0, 0, 0.15);\n",
              "      filter: drop-shadow(0px 1px 2px rgba(0, 0, 0, 0.3));\n",
              "      fill: #FFFFFF;\n",
              "    }\n",
              "  </style>\n",
              "\n",
              "      <script>\n",
              "        const buttonEl =\n",
              "          document.querySelector('#df-3995ed94-90d6-403e-b17d-e56cf5cdedb8 button.colab-df-convert');\n",
              "        buttonEl.style.display =\n",
              "          google.colab.kernel.accessAllowed ? 'block' : 'none';\n",
              "\n",
              "        async function convertToInteractive(key) {\n",
              "          const element = document.querySelector('#df-3995ed94-90d6-403e-b17d-e56cf5cdedb8');\n",
              "          const dataTable =\n",
              "            await google.colab.kernel.invokeFunction('convertToInteractive',\n",
              "                                                     [key], {});\n",
              "          if (!dataTable) return;\n",
              "\n",
              "          const docLinkHtml = 'Like what you see? Visit the ' +\n",
              "            '<a target=\"_blank\" href=https://colab.research.google.com/notebooks/data_table.ipynb>data table notebook</a>'\n",
              "            + ' to learn more about interactive tables.';\n",
              "          element.innerHTML = '';\n",
              "          dataTable['output_type'] = 'display_data';\n",
              "          await google.colab.output.renderOutput(dataTable, element);\n",
              "          const docLink = document.createElement('div');\n",
              "          docLink.innerHTML = docLinkHtml;\n",
              "          element.appendChild(docLink);\n",
              "        }\n",
              "      </script>\n",
              "    </div>\n",
              "  </div>\n",
              "  "
            ]
          },
          "metadata": {},
          "execution_count": 27
        }
      ]
    },
    {
      "cell_type": "markdown",
      "source": [
        "Total_people_rated column "
      ],
      "metadata": {
        "id": "lYYbJJ-KbTXY"
      }
    },
    {
      "cell_type": "markdown",
      "source": [
        "Removing ',' sign and changing column to integer type"
      ],
      "metadata": {
        "id": "N3K5-RkYcLK3"
      }
    },
    {
      "cell_type": "code",
      "source": [
        "def remove_comma(a):\n",
        "  return a.replace(',','')\n",
        "d.Total_people_rated=d.Total_people_rated.apply(remove_comma)"
      ],
      "metadata": {
        "id": "Tk63PEBOYgya"
      },
      "execution_count": 35,
      "outputs": []
    },
    {
      "cell_type": "code",
      "source": [
        "d.Total_people_rated.head()"
      ],
      "metadata": {
        "colab": {
          "base_uri": "https://localhost:8080/"
        },
        "id": "Et07BqxQZS3G",
        "outputId": "85d234ea-ed7c-4b40-81cd-032ad363964c"
      },
      "execution_count": 37,
      "outputs": [
        {
          "output_type": "execute_result",
          "data": {
            "text/plain": [
              "0    9013\n",
              "1    1473\n",
              "2    6050\n",
              "3    4109\n",
              "4    2156\n",
              "Name: Total_people_rated, dtype: object"
            ]
          },
          "metadata": {},
          "execution_count": 37
        }
      ]
    },
    {
      "cell_type": "code",
      "source": [
        "d.Total_people_rated=d.Total_people_rated.astype('int')\n",
        "d.Total_people_rated "
      ],
      "metadata": {
        "colab": {
          "base_uri": "https://localhost:8080/"
        },
        "id": "KNgf-XTFbJL6",
        "outputId": "aea1504f-db10-48c6-f945-14fef5281be7"
      },
      "execution_count": 39,
      "outputs": [
        {
          "output_type": "execute_result",
          "data": {
            "text/plain": [
              "0      9013\n",
              "1      1473\n",
              "2      6050\n",
              "3      4109\n",
              "4      2156\n",
              "       ... \n",
              "209      57\n",
              "210       8\n",
              "211     370\n",
              "212     225\n",
              "213    4310\n",
              "Name: Total_people_rated, Length: 214, dtype: int64"
            ]
          },
          "metadata": {},
          "execution_count": 39
        }
      ]
    },
    {
      "cell_type": "markdown",
      "source": [
        "Checking null values and column types using info method"
      ],
      "metadata": {
        "id": "TiNA_FQvcUuF"
      }
    },
    {
      "cell_type": "code",
      "source": [
        "d.info()"
      ],
      "metadata": {
        "colab": {
          "base_uri": "https://localhost:8080/"
        },
        "id": "JdBTIdGebg5v",
        "outputId": "fca4cad6-1d1c-4dd1-e413-33b0651b80b3"
      },
      "execution_count": 40,
      "outputs": [
        {
          "output_type": "stream",
          "name": "stdout",
          "text": [
            "<class 'pandas.core.frame.DataFrame'>\n",
            "RangeIndex: 214 entries, 0 to 213\n",
            "Data columns (total 4 columns):\n",
            " #   Column              Non-Null Count  Dtype  \n",
            "---  ------              --------------  -----  \n",
            " 0   Title               214 non-null    object \n",
            " 1   Total_people_rated  214 non-null    int64  \n",
            " 2   Price               214 non-null    float64\n",
            " 3   Rating              214 non-null    float64\n",
            "dtypes: float64(2), int64(1), object(1)\n",
            "memory usage: 6.8+ KB\n"
          ]
        }
      ]
    },
    {
      "cell_type": "markdown",
      "source": [
        "Storing modified data into a CSV file"
      ],
      "metadata": {
        "id": "ZJFg62ItccGX"
      }
    },
    {
      "cell_type": "code",
      "source": [
        "d.to_csv('D:\\Cancer project\\amazon_products_new1.csv', index=False, encoding='utf-8')"
      ],
      "metadata": {
        "id": "xPvrx5rpn_rV"
      },
      "execution_count": 41,
      "outputs": []
    }
  ],
  "metadata": {
    "colab": {
      "name": "Untitled10.ipynb",
      "provenance": [],
      "collapsed_sections": [],
      "authorship_tag": "ABX9TyPckYdnjYjf7xc7BDVB3wn8",
      "include_colab_link": true
    },
    "kernelspec": {
      "display_name": "Python 3",
      "name": "python3"
    },
    "language_info": {
      "name": "python"
    }
  },
  "nbformat": 4,
  "nbformat_minor": 0
}