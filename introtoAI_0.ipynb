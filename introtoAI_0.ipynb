{
  "nbformat": 4,
  "nbformat_minor": 0,
  "metadata": {
    "colab": {
      "name": "introtoAI_0.ipynb",
      "provenance": [],
      "collapsed_sections": [],
      "authorship_tag": "ABX9TyOlKp1yzmKBugqyFaO1Y+5X",
      "include_colab_link": true
    },
    "kernelspec": {
      "name": "python3",
      "display_name": "Python 3"
    },
    "language_info": {
      "name": "python"
    }
  },
  "cells": [
    {
      "cell_type": "markdown",
      "metadata": {
        "id": "view-in-github",
        "colab_type": "text"
      },
      "source": [
        "<a href=\"https://colab.research.google.com/github/sainathkrothapalli/Data-Analyst-Project/blob/main/introtoAI_0.ipynb\" target=\"_parent\"><img src=\"https://colab.research.google.com/assets/colab-badge.svg\" alt=\"Open In Colab\"/></a>"
      ]
    },
    {
      "cell_type": "markdown",
      "source": [
        "Question 1: Minimum value of a list"
      ],
      "metadata": {
        "id": "tE3bggMqR9NZ"
      }
    },
    {
      "cell_type": "code",
      "execution_count": 17,
      "metadata": {
        "colab": {
          "base_uri": "https://localhost:8080/",
          "height": 0
        },
        "id": "hUL4jEI6PNez",
        "outputId": "fb8760e2-4991-4e64-e182-4e954f119e2d"
      },
      "outputs": [
        {
          "output_type": "stream",
          "name": "stdout",
          "text": [
            "The minimum element in a list is: 0\n"
          ]
        }
      ],
      "source": [
        "def min_List(l):\n",
        "  if len(l)<1:\n",
        "    return \"Please enter non empty list\"\n",
        "  else: \n",
        "    minimum_value=l[0]\n",
        "    for i in range(1,len(l)):\n",
        "      if minimum_value>l[i]:\n",
        "        minimum_value=l[i]\n",
        "  return minimum_value\n",
        "\n",
        "if __name__ == '__main__':\n",
        "  print(\"The minimum element in a list is:\",min_List([2,3,4,8,9,0,4,6,1]))   \n"
      ]
    },
    {
      "cell_type": "markdown",
      "source": [
        "Question 2: Minimum value of a matrix"
      ],
      "metadata": {
        "id": "yskbvY8AR7xX"
      }
    },
    {
      "cell_type": "code",
      "source": [
        "def min_matrix(m):\n",
        "  if len(m)<2:\n",
        "    return \"Please enter non empty 2 dimentional matrix\"\n",
        "  else:\n",
        "    \n",
        "    minimum_value=m[0][0]\n",
        "    for i in range(len(m)):\n",
        "      for j in range(len(m[i])):\n",
        "        if minimum_value>m[i][j]:\n",
        "          minimum_value=m[i][j]\n",
        "  return minimum_value        \n",
        "\n",
        "  \n",
        "\n",
        "if __name__ == '__main__':\n",
        "  print(\"The minimum element in a matrix is:\",min_matrix([[2,6,11,45,24,0],[23,4,67,-3,34]]))   \n"
      ],
      "metadata": {
        "colab": {
          "base_uri": "https://localhost:8080/",
          "height": 0
        },
        "id": "os3nBGBrSMg-",
        "outputId": "20df48bd-0c95-4ce0-a91f-b3c68cc3a05c"
      },
      "execution_count": 18,
      "outputs": [
        {
          "output_type": "stream",
          "name": "stdout",
          "text": [
            "The minimum element in a matrix is: -3\n"
          ]
        }
      ]
    },
    {
      "cell_type": "markdown",
      "source": [
        "Question 3: convert vector of frequencies to probabilities"
      ],
      "metadata": {
        "id": "huxyJQfEWwLN"
      }
    },
    {
      "cell_type": "code",
      "source": [
        "def feq_to_prob(l):\n",
        "  probability=[0 for i in range(len(l))]\n",
        "  #print(probability)\n",
        "  summation=sum(l)     \n",
        "  for i in range(len(l)):\n",
        "    probability[i]=l[i]/summation\n",
        "\n",
        "  return probability  \n",
        "\n",
        "if __name__ == '__main__':\n",
        "  print(\"The Probability vector is:\",feq_to_prob([2,6,11,45,24,34])) "
      ],
      "metadata": {
        "colab": {
          "base_uri": "https://localhost:8080/",
          "height": 0
        },
        "id": "UQUKs-dJW1nW",
        "outputId": "d5c743c7-44c8-4051-f737-07df1c080aa9"
      },
      "execution_count": 19,
      "outputs": [
        {
          "output_type": "stream",
          "name": "stdout",
          "text": [
            "The Probability vector is: [0.01639344262295082, 0.04918032786885246, 0.09016393442622951, 0.36885245901639346, 0.19672131147540983, 0.2786885245901639]\n"
          ]
        }
      ]
    },
    {
      "cell_type": "code",
      "source": [],
      "metadata": {
        "id": "g5oECKtTjlom"
      },
      "execution_count": null,
      "outputs": []
    }
  ]
}