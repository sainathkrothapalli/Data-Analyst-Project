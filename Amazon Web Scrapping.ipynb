{
  "nbformat": 4,
  "nbformat_minor": 0,
  "metadata": {
    "colab": {
      "name": "Untitled9.ipynb",
      "provenance": [],
      "authorship_tag": "ABX9TyO73am0AEUtgq8Mc5rUd9Ek",
      "include_colab_link": true
    },
    "kernelspec": {
      "name": "python3",
      "display_name": "Python 3"
    },
    "language_info": {
      "name": "python"
    }
  },
  "cells": [
    {
      "cell_type": "markdown",
      "metadata": {
        "id": "view-in-github",
        "colab_type": "text"
      },
      "source": [
        "<a href=\"https://colab.research.google.com/github/sainathkrothapalli/Data-Analyst-Projects/blob/main/Amazon%20Web%20Scrapping.ipynb\" target=\"_parent\"><img src=\"https://colab.research.google.com/assets/colab-badge.svg\" alt=\"Open In Colab\"/></a>"
      ]
    },
    {
      "cell_type": "code",
      "execution_count": 7,
      "metadata": {
        "id": "Q9kAMNAgW8Az"
      },
      "outputs": [],
      "source": [
        "import pandas as pd\n",
        "from bs4 import BeautifulSoup\n",
        "import requests\n",
        "headers = {\"User-Agent\":\"Mozilla/5.0 (Windows NT 10.0; Win64; x64; rv:102.0) Gecko/20100101 Firefox/102.0\", \"Accept-Encoding\":\"gzip, deflate\", \"Accept\":\"text/html,application/xhtml+xml,application/xml;q=0.9,*/*;q=0.8\", \"DNT\":\"1\",\"Connection\":\"close\", \"Upgrade-Insecure-Requests\":\"1\"}\n",
        "r = requests.get('https://www.amazon.com/s?k=shoes+for+men&sprefix=%2Caps%2C265&ref=nb_sb_ss_recent_1_0_recent', headers=headers)#, proxies=proxies)\n",
        "content = r.content\n",
        "soup = BeautifulSoup(content)\n",
        "\n",
        "title,ratings,NoOfRatings,CurrentPrice=[],[],[],[]\n",
        "for d in soup.findAll('div', attrs={'class':'a-section a-spacing-base'}):\n",
        "    if d.find('span', attrs={'class':'a-offscreen'}) is not None:\n",
        "        title.append(d.find('span', attrs={'class':'a-size-base-plus a-color-base a-text-normal'}).get_text())\n",
        "        ratings.append(d.find('span', attrs={'class':'a-icon-alt'}).get_text())\n",
        "        NoOfRatings.append(d.find('span', attrs={'class':'a-size-base s-underline-text'}).get_text())\n",
        "        CurrentPrice.append(d.find('span', attrs={'class':'a-offscreen'}).get_text())\n",
        "    "
      ]
    },
    {
      "cell_type": "code",
      "source": [
        "for page in range(2,8):\n",
        "    r = requests.get('https://www.amazon.com/s?k=shoes+for+men&page={0}&qid=1658163835&sprefix=%2Caps%2C265&ref=sr_pg_{1}'.format(page,page-1)\n",
        "    , headers=headers)#, proxies=proxies)\n",
        "    content = r.content\n",
        "    soup = BeautifulSoup(content)\n",
        "\n",
        "\n",
        "    for d in soup.findAll('div', attrs={'class':'a-section a-spacing-base'}):\n",
        "        if d.find('span', attrs={'class':'a-offscreen'}) is not None:\n",
        "            title.append(d.find('span', attrs={'class':'a-size-base-plus a-color-base a-text-normal'}).get_text())\n",
        "            ratings.append(d.find('span', attrs={'class':'a-icon-alt'}).get_text())\n",
        "            NoOfRatings.append(d.find('span', attrs={'class':'a-size-base s-underline-text'}).get_text())\n",
        "            CurrentPrice.append(d.find('span', attrs={'class':'a-offscreen'}).get_text())\n",
        "    \n"
      ],
      "metadata": {
        "id": "ZYvuW-jGXL42"
      },
      "execution_count": 9,
      "outputs": []
    },
    {
      "cell_type": "code",
      "source": [
        "dataset=pd.DataFrame({'Title':title,'Ratings':ratings,'Total People Rated':NoOfRatings,\n",
        "'Current Price':CurrentPrice})\n",
        "\n",
        "dataset.to_csv('D:/Cancer project/amazon_products.csv', index=False, encoding='utf-8')\n"
      ],
      "metadata": {
        "id": "91W-_0-5aB-j"
      },
      "execution_count": null,
      "outputs": []
    }
  ]
}